{
  "nbformat": 4,
  "nbformat_minor": 0,
  "metadata": {
    "kernelspec": {
      "display_name": "Python 3",
      "language": "python",
      "name": "python3"
    },
    "language_info": {
      "codemirror_mode": {
        "name": "ipython",
        "version": 3
      },
      "file_extension": ".py",
      "mimetype": "text/x-python",
      "name": "python",
      "nbconvert_exporter": "python",
      "pygments_lexer": "ipython3",
      "version": "3.7.6"
    },
    "colab": {
      "name": "Movie success predictor (Dataset fetching).ipynb",
      "private_outputs": true,
      "provenance": [],
      "collapsed_sections": []
    }
  },
  "cells": [
    {
      "cell_type": "code",
      "metadata": {
        "id": "UBlB2JRNY4g4"
      },
      "source": [
        "#import libraries\n",
        "import pandas as pd\n",
        "!pip install tmdbv3api\n",
        "!pip install tmdbsimple\n",
        "from tmdbv3api import TMDb\n",
        "from tmdbv3api import Movie\n",
        "from tmdbv3api import Person\n",
        "import tmdbsimple as tmdbs\n",
        "import seaborn as sns\n",
        "api_key = '5bacb21ac761e60782a3ef72ade82c7f'\n",
        "tmdbs.API_KEY = api_key"
      ],
      "execution_count": null,
      "outputs": []
    },
    {
      "cell_type": "code",
      "metadata": {
        "id": "oiJPQs7PBUTo"
      },
      "source": [
        "# read and view the data\n",
        "imdb_df = pd.read_csv(\"movies.csv\", encoding = \"ISO-8859-1\")\n",
        "print(\"The dataset shape:\",imdb_df.shape)\n",
        "print(imdb_df.describe().transpose())\n",
        "imdb_df.head(5)"
      ],
      "execution_count": null,
      "outputs": []
    },
    {
      "cell_type": "code",
      "metadata": {
        "id": "KINOepyhBMJC"
      },
      "source": [
        "# drop the movies when budget = 0\n",
        "imdb_df = imdb_df[imdb_df.budget != 0]"
      ],
      "execution_count": null,
      "outputs": []
    },
    {
      "cell_type": "code",
      "metadata": {
        "id": "mOiUR-v2BMpx"
      },
      "source": [
        "# drop the movies that aren't made in USA\n",
        "imdb_df = imdb_df[imdb_df.country == \"USA\"]"
      ],
      "execution_count": null,
      "outputs": []
    },
    {
      "cell_type": "code",
      "metadata": {
        "id": "a6EblOggY4g5"
      },
      "source": [
        "print(\"The dataset shape:\",imdb_df.shape)\n",
        "print(imdb_df.describe().transpose())\n",
        "imdb_df.head()"
      ],
      "execution_count": null,
      "outputs": []
    },
    {
      "cell_type": "code",
      "metadata": {
        "id": "FpCua9JrBY9j"
      },
      "source": [
        "# check if there is any missing value\n",
        "print('missing values in the data: \\n', imdb_df.isnull().sum())"
      ],
      "execution_count": null,
      "outputs": []
    },
    {
      "cell_type": "code",
      "metadata": {
        "id": "vlW5aXFCI7wJ"
      },
      "source": [
        "# reset the index on the cleaned data\n",
        "imdb_df.reset_index(inplace=True)"
      ],
      "execution_count": null,
      "outputs": []
    },
    {
      "cell_type": "code",
      "metadata": {
        "id": "Fr3_UvdXJGAv"
      },
      "source": [
        "# check if index changed\n",
        "imdb_df.tail()"
      ],
      "execution_count": null,
      "outputs": []
    },
    {
      "cell_type": "code",
      "metadata": {
        "id": "2toPPgduY4g5"
      },
      "source": [
        "# Call the tmdb api \n",
        "tmdb = TMDb()\n",
        "tmdb.api_key = api_key\n",
        "tmdb.language = 'en'\n",
        "tmdb.debug = True"
      ],
      "execution_count": null,
      "outputs": []
    },
    {
      "cell_type": "code",
      "metadata": {
        "id": "sueKh2TTyE6z"
      },
      "source": [
        "# Get director popularity from API\n",
        "director_popularity = dict()\n",
        "for i in imdb_df.index:\n",
        "    search = tmdbs.Search()\n",
        "    response = search.person(query=imdb_df.director[i])\n",
        "    try:\n",
        "      for s in search.results:\n",
        "        if s['known_for_department'] == 'Directing':\n",
        "            # print(s['id'], s['popularity'], s['known_for_department'], s['profile_path'])\n",
        "            director_popularity[i] = s['popularity']\n",
        "            break\n",
        "    except KeyError:\n",
        "      continue\n",
        "print(director_popularity)"
      ],
      "execution_count": null,
      "outputs": []
    },
    {
      "cell_type": "code",
      "metadata": {
        "id": "yDJ2DJhj03TZ"
      },
      "source": [
        "# Get actor popularity from API\n",
        "actor_popularity = dict()\n",
        "for i in imdb_df.index:\n",
        "    search = tmdbs.Search()\n",
        "    response = search.person(query=imdb_df.star[i])\n",
        "    try:\n",
        "      for s in search.results:\n",
        "          if s['known_for_department'] == 'Acting':\n",
        "              # print(s['id'], s['popularity'], s['known_for_department'], s['profile_path'])\n",
        "              actor_popularity[i] = s['popularity']\n",
        "              break\n",
        "    except KeyError:\n",
        "      continue\n",
        "print(actor_popularity)"
      ],
      "execution_count": null,
      "outputs": []
    },
    {
      "cell_type": "code",
      "metadata": {
        "id": "4qFxPDH2031B"
      },
      "source": [
        "# Get writer popularity from API\n",
        "writer_popularity = dict()\n",
        "for i in imdb_df.index:\n",
        "    search = tmdbs.Search()\n",
        "    response = search.person(query=imdb_df.writer[i])\n",
        "    try:\n",
        "      for s in search.results:\n",
        "        if s['known_for_department'] == 'Writing':\n",
        "          # print(s['id'], s['popularity'], s['known_for_department'], s['profile_path'])\n",
        "          writer_popularity[i] = s['popularity']\n",
        "          break      \n",
        "    except KeyError:\n",
        "      continue\n",
        "        \n",
        "print(writer_popularity)"
      ],
      "execution_count": null,
      "outputs": []
    },
    {
      "cell_type": "code",
      "metadata": {
        "id": "Vi7MN5t5U8qN"
      },
      "source": [
        "# create new dataframes to merge with dataset\n",
        "df1  = pd.DataFrame(director_popularity, index=director_popularity.keys())\n",
        "df1 = df1.transpose()\n",
        "df1.drop(df1.iloc[:, 1:], axis = 1, inplace = True)\n",
        "df1.rename(columns={1: \"director_popularity\"}, inplace=True)\n",
        "\n",
        "df2  = pd.DataFrame(actor_popularity, index=actor_popularity.keys())\n",
        "df2 = df2.transpose()\n",
        "df2.drop(df2.iloc[:, 1:], axis = 1, inplace = True)\n",
        "df2.rename(columns={0: \"actor_popularity\"}, inplace=True)\n",
        "\n",
        "\n",
        "df3  = pd.DataFrame(writer_popularity, index=writer_popularity.keys())\n",
        "df3 = df3.transpose()\n",
        "df3.drop(df3.iloc[:, 1:], axis = 1, inplace = True)\n",
        "df3.rename(columns={1: \"writer_popularity\"}, inplace=True)"
      ],
      "execution_count": null,
      "outputs": []
    },
    {
      "cell_type": "code",
      "metadata": {
        "id": "p8qjHVW1aw1P"
      },
      "source": [
        "print(df1.head())\n",
        "print(df2.head())\n",
        "print(df3.head())"
      ],
      "execution_count": null,
      "outputs": []
    },
    {
      "cell_type": "code",
      "metadata": {
        "id": "OYfQmEyHXty7"
      },
      "source": [
        "# create the new dataset with the popularity values\n",
        "new_df = imdb_df\n",
        "new_df = pd.concat([imdb_df, df1], join='inner', ignore_index=False, axis=1)\n",
        "new_df = pd.concat([new_df, df2], join='inner', ignore_index=False, axis=1)\n",
        "new_df = pd.concat([new_df, df3], join='inner', ignore_index=False, axis=1)\n",
        "new_df\n"
      ],
      "execution_count": null,
      "outputs": []
    },
    {
      "cell_type": "code",
      "metadata": {
        "id": "fMILyn0FXDIv"
      },
      "source": [
        "# check that they have been added\n",
        "new_df.info()"
      ],
      "execution_count": null,
      "outputs": []
    },
    {
      "cell_type": "code",
      "metadata": {
        "id": "k5Q-GqYXm-B5"
      },
      "source": [
        "# export dataset to CSV file\n",
        "new_df.to_csv('movie_dataset')"
      ],
      "execution_count": null,
      "outputs": []
    }
  ]
}